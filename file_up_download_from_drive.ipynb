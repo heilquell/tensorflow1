{
  "nbformat": 4,
  "nbformat_minor": 0,
  "metadata": {
    "colab": {
      "name": "file_up_download_from drive.ipynb",
      "version": "0.3.2",
      "provenance": [],
      "collapsed_sections": [],
      "include_colab_link": true
    },
    "kernelspec": {
      "name": "python3",
      "display_name": "Python 3"
    }
  },
  "cells": [
    {
      "cell_type": "markdown",
      "metadata": {
        "id": "view-in-github",
        "colab_type": "text"
      },
      "source": [
        "<a href=\"https://colab.research.google.com/github/heilquell/tensorflow1/blob/master/file_up_download_from_drive.ipynb\" target=\"_parent\"><img src=\"https://colab.research.google.com/assets/colab-badge.svg\" alt=\"Open In Colab\"/></a>"
      ]
    },
    {
      "metadata": {
        "id": "MFm3rIU4PD5p",
        "colab_type": "code",
        "colab": {}
      },
      "cell_type": "code",
      "source": [
        "#! pip install pydrive\n",
        "\n",
        "# https://stackoverflow.com/questions/48801379/how-to-load-a-npy-file-as-a-numpy-array-into-the-virtual-machine-on-google-cola?rq=1"
      ],
      "execution_count": 0,
      "outputs": []
    },
    {
      "metadata": {
        "id": "mBqsEAlMY_K7",
        "colab_type": "text"
      },
      "cell_type": "markdown",
      "source": [
        "\n",
        "\n",
        "Solved it.\n",
        "\n",
        "First do the simple authentication as stated in the doc"
      ]
    },
    {
      "metadata": {
        "id": "f2WjBw7NO5ZA",
        "colab_type": "code",
        "colab": {}
      },
      "cell_type": "code",
      "source": [
        "from pydrive.auth import GoogleAuth\n",
        "from pydrive.drive import GoogleDrive\n",
        "from google.colab import auth\n",
        "from oauth2client.client import GoogleCredentials\n",
        "\n",
        "# 1. Authenticate and create the PyDrive client.\n",
        "auth.authenticate_user()\n",
        "gauth = GoogleAuth()\n",
        "gauth.credentials = GoogleCredentials.get_application_default()\n",
        "drive = GoogleDrive(gauth)"
      ],
      "execution_count": 0,
      "outputs": []
    },
    {
      "metadata": {
        "id": "qi7RWtGmZEmm",
        "colab_type": "text"
      },
      "cell_type": "markdown",
      "source": [
        "I created some helper function which gets the file id if you know the file name and folder id where the file is present on drive. Folder id is the last part of the link in drive.google.com/../../folders/"
      ]
    },
    {
      "metadata": {
        "id": "vym-bCYQPXuV",
        "colab_type": "code",
        "colab": {}
      },
      "cell_type": "code",
      "source": [
        "def get_file_from_drive(folder_id, file_name):\n",
        "  file_list = drive.ListFile({'q': \"'\" + folder_id + \"' in parents and trashed=false\"}).GetList()\n",
        "  for file in file_list:\n",
        "    if file['title'] == file_name:\n",
        "      return file['id']\n",
        "\n",
        "def upload_file_to_drive(file_name, file_data):\n",
        "  uploaded = drive.CreateFile({'title': file_name})\n",
        "  uploaded.SetContentString(file_data)\n",
        "  uploaded.Upload()\n",
        "  print('Uploaded file with ID {}'.format(uploaded.get('id')))\n",
        "\n",
        "drive_folder_id = '10n5RZoqHGzlHl-CMy34X0IqUDZOGxaTf'"
      ],
      "execution_count": 0,
      "outputs": []
    },
    {
      "metadata": {
        "id": "IhrauMRqZIWr",
        "colab_type": "text"
      },
      "cell_type": "markdown",
      "source": [
        "This function uploads the file from google drive into the virtual system that colab allows you to use."
      ]
    },
    {
      "metadata": {
        "id": "gxBgE4OjPsp5",
        "colab_type": "code",
        "colab": {}
      },
      "cell_type": "code",
      "source": [
        "def upload_data_system():\n",
        "  downloaded = drive.CreateFile({'id': get_file_from_drive(drive_folder_id, 'sm125_neu_marken.npy')})\n",
        "  downloaded.GetContentFile('sm125_neu_marken.npy') \n",
        "  \n",
        "  downloaded = drive.CreateFile({'id': get_file_from_drive(drive_folder_id, 'sm125_neu_pred-0.h5')})\n",
        "  downloaded.GetContentFile('sm125_neu_pred-0.h5')\n",
        "  \n",
        "  downloaded = drive.CreateFile({'id': get_file_from_drive(drive_folder_id, 'sm125_neu_pred-0.model')})\n",
        "  downloaded.GetContentFile('sm125_neu_pred-0.model')\n",
        "\n",
        "\n",
        "upload_data_system()"
      ],
      "execution_count": 0,
      "outputs": []
    },
    {
      "metadata": {
        "id": "-nx5So6uZLfS",
        "colab_type": "text"
      },
      "cell_type": "markdown",
      "source": [
        "Viola! Your files are uploaded to the file system and can be loaded into memory using simple python as it was done locally. To verify, run this on colab. You should see your files "
      ]
    },
    {
      "metadata": {
        "id": "2TrR4kuTRdf0",
        "colab_type": "code",
        "colab": {
          "base_uri": "https://localhost:8080/",
          "height": 109
        },
        "outputId": "d7f19e08-62ce-4fc7-9087-c8d307a1c777"
      },
      "cell_type": "code",
      "source": [
        "import os\n",
        "from os import listdir\n",
        "\n",
        "for f in os.listdir('.'):\n",
        "  if os.path.isfile(f):\n",
        "    print(f)"
      ],
      "execution_count": 38,
      "outputs": [
        {
          "output_type": "stream",
          "text": [
            "sm125_neu_pred-0.h5\n",
            "example.txt\n",
            "adc.json\n",
            "sm125_neu_marken.npy\n",
            "sm125_neu_pred-0.model\n"
          ],
          "name": "stdout"
        }
      ]
    },
    {
      "metadata": {
        "id": "3TNEeWQtZUmL",
        "colab_type": "text"
      },
      "cell_type": "markdown",
      "source": [
        "Now load your numpy file as np.load(path_to_file_in_filesystem)"
      ]
    },
    {
      "metadata": {
        "id": "0ef7EPCMXhyx",
        "colab_type": "code",
        "colab": {
          "base_uri": "https://localhost:8080/",
          "height": 237
        },
        "outputId": "1214796f-c9e3-4ac4-c42e-913fb0171d76"
      },
      "cell_type": "code",
      "source": [
        "import numpy as np\n",
        "marken = np.load(\"sm125_neu_marken.npy\")\n",
        "print(marken)"
      ],
      "execution_count": 37,
      "outputs": [
        {
          "output_type": "stream",
          "text": [
            "['A' 'A220' 'A750' 'A903' 'A911' 'A913' 'A926' 'A965' 'C' 'E' 'E108' 'G'\n",
            " 'H' 'H525' 'K' 'K100' 'K105' 'K107' 'K110' 'K135' 'K190' 'K294' 'K305'\n",
            " 'K320' 'K330' 'K340' 'K353' 'K360' 'K390' 'K455' 'K460' 'K490' 'K600'\n",
            " 'K720' 'K890' 'L' 'L135' 'L140' 'L314' 'L328' 'L330' 'L331' 'L333' 'L334'\n",
            " 'L343' 'M' 'M121' 'M130' 'M238' 'M261' 'M264' 'M300' 'M303' 'M310' 'M315'\n",
            " 'M333' 'M340' 'M390' 'N' 'N352' 'N360' 'N400' 'N685' 'N690' 'N695' 'N700'\n",
            " 'N701' 'N709' 'N713' 'N721' 'P' 'P501' 'P504' 'P511' 'R' 'R100' 'R250'\n",
            " 'S' 'S200' 'S290' 'S390' 'S392' 'S400' 'S500' 'S590' 'S592' 'S600' 'S607'\n",
            " 'S690' 'S692' 'S693' 'S705' 'S790' 'S903' 'T' 'T200' 'T262' 'T504' 'T505'\n",
            " 'T550' 'T552' 'T670' 'V' 'V118' 'V124' 'V145' 'V354' 'V361' 'V720' 'V723'\n",
            " 'V726' 'W' 'W300' 'W302' 'W303' 'W304' 'W320' 'W321' 'W360' 'W403' 'W460'\n",
            " 'W722']\n"
          ],
          "name": "stdout"
        }
      ]
    }
  ]
}